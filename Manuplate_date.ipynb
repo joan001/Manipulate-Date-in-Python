{
 "cells": [
  {
   "cell_type": "code",
   "execution_count": null,
   "metadata": {},
   "outputs": [],
   "source": [
    "# Manipulate Times, Dates, and convert from string to datetime and vice versa\n",
    "# import datetime class from datetime module\n",
    "from datetime import datetime\n",
    "# get current date\n",
    "current_date = datetime.now()\n",
    "print(current_date)\n",
    "print('Type :- ',type(current_date))"
   ]
  },
  {
   "cell_type": "code",
   "execution_count": null,
   "metadata": {},
   "outputs": [],
   "source": [
    "#strptime() can read strings with date and time  and convert them to datetime objects. it took two arguments: the string and \"%Y-%m-%d\"\n",
    "my_str = '2020-09-08'\n",
    "# Create date object in given time format yyyy-mm-dd\n",
    "my_date = datetime.strptime(my_str,\"%Y-%m-%d\")\n",
    "print(my_date)\n",
    "print(\"Type: \", type(my_date))\n",
    "\n",
    "\n"
   ]
  },
  {
   "cell_type": "code",
   "execution_count": null,
   "metadata": {},
   "outputs": [],
   "source": [
    "#strftime() can read date and time and convert it to string. It takes two arguments: the datetime and \"%Y-%m-%d\"\n",
    "current_date = datetime.now()\n",
    "date_str = datetime.strftime(current_date, \"%Y-%m-%d\")\n",
    "print(date_str)\n",
    "print(\"Type : \", type(date_str))"
   ]
  },
  {
   "cell_type": "code",
   "execution_count": null,
   "metadata": {},
   "outputs": [],
   "source": [
    "#Getting Day of the Month and Day of the Week from a Date by importing calendar, and then using .day and .weekday()\n",
    "import calendar\n",
    "print(\"Day of Month: \", my_date.day)\n",
    "\n",
    "# to get name of day(in number) from date\n",
    "print('Day of Week (number): ', my_date.weekday())\n",
    "\n",
    "# to get name of day from date\n",
    "print('Day of Week (name): ', calendar.day_name[my_date.weekday()])\n",
    "\n",
    "# note: python count 0 as Monday,  1 - Tuesday 2 - Wednesday 3 - Thursday 4 - Friday 5 - Saturday 6 - Sunday"
   ]
  },
  {
   "cell_type": "code",
   "execution_count": null,
   "metadata": {},
   "outputs": [],
   "source": [
    "#Getting Hours and Minutes\n",
    "today_date = datetime.now()\n",
    "\n",
    "# to get hour from datetime\n",
    "print('Hour: ', today_date.hour)\n",
    "\n",
    "# to get minute from datetime\n",
    "print('Minute: ', today_date.minute)"
   ]
  },
  {
   "cell_type": "code",
   "execution_count": null,
   "metadata": {},
   "outputs": [],
   "source": [
    "# get the year, week of the year, and day of the week from a datetime object with the .isocalendar() function.\n",
    "# Return a 3-tuple, (ISO year, ISO week number, ISO weekday).\n",
    "today_date.isocalendar()"
   ]
  },
  {
   "cell_type": "code",
   "execution_count": null,
   "metadata": {},
   "outputs": [],
   "source": [
    "#Converting a Date Object into Unix Timestamp and Vice Versa\n",
    "my_date = datetime.now()\n",
    "#convert current time to timestamp\n",
    "my_timestamp = datetime.timestamp(my_date)\n",
    "print(' Date and Time at now is :', my_date)\n",
    "print(\" current Timestamp is : \", my_timestamp)\n",
    "\n",
    "\n"
   ]
  },
  {
   "cell_type": "code",
   "execution_count": null,
   "metadata": {},
   "outputs": [],
   "source": [
    "#we can do the reverse conversion using fromtimestamp()\n",
    "myconvert_date = datetime.fromtimestamp(my_timestamp)\n",
    "print(\"My converted date is:\", myconvert_date)"
   ]
  },
  {
   "cell_type": "code",
   "execution_count": null,
   "metadata": {},
   "outputs": [],
   "source": [
    "# Working with pandas Datetime Objects: \n",
    "#to_datetime(): Converts string dates and times into Python datetime objects."
   ]
  },
  {
   "cell_type": "code",
   "execution_count": null,
   "metadata": {},
   "outputs": [],
   "source": [
    "import pandas as pd\n",
    "my_str = '2020-09-08'\n",
    "date_1 = pd.to_datetime(my_str)\n",
    "print(date_1)\n",
    "print(\"type: \", type(date_1))\n",
    "\n",
    "# OR create date object using to_datetime() function\n",
    "date = pd.to_datetime(\"8th of sep, 2020\")\n",
    "print(date)\n",
    "print(\"Type:, \", type(date))\n",
    "\n",
    "#note: No matter how complex the string is, pandas as convert it to datetime object"
   ]
  },
  {
   "cell_type": "code",
   "execution_count": null,
   "metadata": {},
   "outputs": [],
   "source": [
    "#\n",
    "# Create date series using date_range() function\n",
    "date_series = pd.date_range('09/8/2020', periods = 12, freq ='D')\n",
    "print(date_series)"
   ]
  },
  {
   "cell_type": "code",
   "execution_count": null,
   "metadata": {},
   "outputs": [],
   "source": []
  },
  {
   "cell_type": "code",
   "execution_count": null,
   "metadata": {},
   "outputs": [],
   "source": [
    "# Pandas is also capable of getting other elements, like the day of the week and the day of the year, from its datetime objects. \n",
    "# Create a DataFrame with one column date\n",
    "df = pd.DataFrame()\n",
    "df['date'] = date_series\n",
    "df.head()"
   ]
  },
  {
   "cell_type": "code",
   "execution_count": null,
   "metadata": {},
   "outputs": [],
   "source": [
    "#Get Year, Month, Day, Hour, Minute in panda using dt attributes for all columns use df['date'].dt.year\n",
    "# Extract year, month, day, hour, and minute. Assign all these date component to new column.\n",
    "df['year'] = df['date'].dt.year\n",
    "df['month'] = df['date'].dt.month\n",
    "df['day'] = df['date'].dt.day\n",
    "df['hour'] = df['date'].dt.hour\n",
    "df['minute'] = df['date'].dt.minute\n",
    "df.head()\n"
   ]
  },
  {
   "cell_type": "code",
   "execution_count": null,
   "metadata": {},
   "outputs": [],
   "source": [
    "## get Weekday and Day of Year. Assign all these date component to new column.\n",
    "df['weekday'] = df['date'].dt.weekday\n",
    "\n",
    "df['dayofyear'] = df['date'].dt.dayofyear\n",
    "df.head()"
   ]
  },
  {
   "cell_type": "code",
   "execution_count": null,
   "metadata": {},
   "outputs": [],
   "source": [
    "#Convert Date Object into DataFrame Index\n",
    "df.index = df.date\n",
    "df.head()\n"
   ]
  },
  {
   "cell_type": "code",
   "execution_count": 41,
   "metadata": {},
   "outputs": [
    {
     "name": "stdout",
     "output_type": "stream",
     "text": [
      "<class 'float'>\n",
      "[1357023600.0, 1357027200.0, 1357030800.0, 1357034400.0, 1357038000.0]\n"
     ]
    }
   ],
   "source": [
    "# Use pandas to convert string to timestamp then call timestamp return to total seconds passed since epoch time(since January 1, 1970)\n",
    "import numpy as np\n",
    "import pandas as pd\n",
    "import time\n",
    "knownTimestamps = ['2013-01-01 07:00', '2013-01-01 08:00', '2013-01-01 09:00', '2013-01-01 10:00', '2013-01-01 11:00']\n",
    "x = [pd.to_datetime(item, infer_datetime_format=True).timestamp() for item in knownTimestamps]\n",
    "print(type(x[0]))\n",
    "print(x)\n",
    "\n",
    " "
   ]
  },
  {
   "cell_type": "code",
   "execution_count": 42,
   "metadata": {},
   "outputs": [
    {
     "name": "stdout",
     "output_type": "stream",
     "text": [
      "[25200.0, 28800.0, 32400.0, 36000.0, 39600.0]\n"
     ]
    }
   ],
   "source": [
    "# convert time string to seconds. first conver to datetime, then convert to timedelta, then convert to total in seconds. \n",
    "import numpy as np\n",
    "from datetime import datetime\n",
    "knownTimestamps = ['2013-01-01 07:00', '2013-01-01 08:00', '2013-01-01 09:00', '2013-01-01 10:00', '2013-01-01 11:00']\n",
    "y = [(datetime.strptime(item, \"%Y-%m-%d %H:%M\")- datetime(2013, 1, 1, 0, 0)).total_seconds() for item in knownTimestamps]\n",
    "\n",
    "print(y)\n",
    "                        "
   ]
  },
  {
   "cell_type": "code",
   "execution_count": null,
   "metadata": {},
   "outputs": [],
   "source": []
  }
 ],
 "metadata": {
  "kernelspec": {
   "display_name": "Python 3",
   "language": "python",
   "name": "python3"
  },
  "language_info": {
   "codemirror_mode": {
    "name": "ipython",
    "version": 3
   },
   "file_extension": ".py",
   "mimetype": "text/x-python",
   "name": "python",
   "nbconvert_exporter": "python",
   "pygments_lexer": "ipython3",
   "version": "3.8.3"
  }
 },
 "nbformat": 4,
 "nbformat_minor": 4
}
